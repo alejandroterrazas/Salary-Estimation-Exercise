{
 "cells": [
  {
   "cell_type": "code",
   "execution_count": 7,
   "metadata": {
    "scrolled": true
   },
   "outputs": [],
   "source": [
    "import pandas as pd\n",
    "from sklearn.model_selection import train_test_split\n",
    "from sklearn.utils import shuffle\n",
    "\n",
    "#change this directory to where the data are store\n",
    "data_dir = '/Users/alex/Desktop/DSciHomeworkAssignmentV3/'\n",
    "\n",
    "\n",
    "df_train_salaries = pd.read_csv(data_dir + 'train_salaries.csv')\n",
    "#df_train_salaries.set_index('jobId', nrows=200)\n",
    "df_train_features = pd.read_csv(data_dir + 'train_features.csv') \n",
    "\n",
    "df_merged = df_train_features.merge(df_train_salaries, on='jobId', how='inner')\n",
    "\n",
    "#df_merged['jobType'] = df_merged['jobType'].map(jobmapping)\n",
    "df_merged = shuffle(df_merged)\n",
    "\n",
    "#df_merged.sort_values('salary', inplace=True)\n",
    "\n",
    "##there are a few records with salary==0; these are dubious-drop them\n",
    "df_merged = df_merged[df_merged.salary>0]\n",
    "df_merged = shuffle(df_merged, random_state=32)\n",
    "\n",
    "train, test = train_test_split(df_merged, test_size=0.2)\n",
    "train, validate = train_test_split(train, test_size=0.25)\n",
    "\n",
    "#pair down the training and validation sets\n",
    "\n",
    "train = train.sample(200000)\n",
    "validate = validate.sample(100000)\n",
    "train.to_csv('./TRAIN.csv',index=False,columns=df_merged.columns)\n",
    "test.to_csv('./TEST.csv',index=False,columns=df_merged.columns)\n",
    "validate.to_csv('./VALID.csv',index=False,columns=df_merged.columns)"
   ]
  },
  {
   "cell_type": "code",
   "execution_count": null,
   "metadata": {},
   "outputs": [],
   "source": []
  },
  {
   "cell_type": "code",
   "execution_count": null,
   "metadata": {},
   "outputs": [],
   "source": []
  }
 ],
 "metadata": {
  "kernelspec": {
   "display_name": "Python 3",
   "language": "python",
   "name": "python3"
  },
  "language_info": {
   "codemirror_mode": {
    "name": "ipython",
    "version": 3
   },
   "file_extension": ".py",
   "mimetype": "text/x-python",
   "name": "python",
   "nbconvert_exporter": "python",
   "pygments_lexer": "ipython3",
   "version": "3.7.5"
  }
 },
 "nbformat": 4,
 "nbformat_minor": 2
}
