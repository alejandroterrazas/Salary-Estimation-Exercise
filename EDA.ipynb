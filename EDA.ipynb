{
 "cells": [
  {
   "cell_type": "markdown",
   "metadata": {},
   "source": [
    "# Load Indeed.com data and do quick exploration"
   ]
  },
  {
   "cell_type": "code",
   "execution_count": 3,
   "metadata": {},
   "outputs": [
    {
     "name": "stdout",
     "output_type": "stream",
     "text": [
      "1000000\n"
     ]
    }
   ],
   "source": [
    "##read in and explore the xlsx files\n",
    "import pandas as pd\n",
    "import seaborn as sns\n",
    "import numpy as np\n",
    "\n",
    "data_dir = '/Users/alex/Desktop/DSciHomeworkAssignmentV3/'\n",
    "df_train_salaries = pd.read_csv(data_dir+'train_salaries.csv') \n",
    "#sns.distplot(df_train['salary'])\n",
    "#df_train_salaries.head()\n",
    "\n",
    "df_train_features = pd.read_csv(data_dir+'train_features.csv') \n",
    "df_train_features.drop('companyId', axis=1, inplace=True)\n",
    "df_train_features.drop('jobId', axis=1, inplace=True)\n",
    "\n",
    "print(len(df_train_salaries))\n",
    "#df_train_features.head()"
   ]
  },
  {
   "cell_type": "code",
   "execution_count": 6,
   "metadata": {},
   "outputs": [
    {
     "name": "stdout",
     "output_type": "stream",
     "text": [
      "99\n"
     ]
    }
   ],
   "source": [
    "##N.B. there are no missing values in these data\n",
    "#None may be used for missing; \n",
    "\n",
    "df_train_features.isnull().sum()\n",
    "print(df_train_features.milesFromMetropolis.max())"
   ]
  },
  {
   "cell_type": "code",
   "execution_count": 4,
   "metadata": {},
   "outputs": [
    {
     "data": {
      "text/plain": [
       "jobType                0\n",
       "degree                 0\n",
       "major                  0\n",
       "industry               0\n",
       "yearsExperience        0\n",
       "milesFromMetropolis    0\n",
       "dtype: int64"
      ]
     },
     "execution_count": 4,
     "metadata": {},
     "output_type": "execute_result"
    }
   ],
   "source": [
    "df_train_features.isna().sum()"
   ]
  },
  {
   "cell_type": "code",
   "execution_count": 31,
   "metadata": {},
   "outputs": [
    {
     "data": {
      "text/plain": [
       "array(['CFO', 'CEO', 'VICE_PRESIDENT', 'MANAGER', 'JUNIOR', 'JANITOR',\n",
       "       'CTO', 'SENIOR'], dtype=object)"
      ]
     },
     "execution_count": 31,
     "metadata": {},
     "output_type": "execute_result"
    }
   ],
   "source": [
    "##list the unqiue job types\n",
    "df_train_features['jobType'].unique()\n"
   ]
  },
  {
   "cell_type": "code",
   "execution_count": 32,
   "metadata": {},
   "outputs": [
    {
     "data": {
      "text/plain": [
       "SENIOR            125886\n",
       "VICE_PRESIDENT    125235\n",
       "MANAGER           125121\n",
       "CTO               125046\n",
       "JANITOR           124971\n",
       "CEO               124778\n",
       "JUNIOR            124594\n",
       "CFO               124369\n",
       "Name: jobType, dtype: int64"
      ]
     },
     "execution_count": 32,
     "metadata": {},
     "output_type": "execute_result"
    }
   ],
   "source": [
    "##see how balanced the jobtypes are\n",
    "df_train_features['jobType'].value_counts()\n",
    "\n",
    "##the answer is pretty balance"
   ]
  },
  {
   "cell_type": "code",
   "execution_count": 33,
   "metadata": {},
   "outputs": [
    {
     "data": {
      "text/plain": [
       "HIGH_SCHOOL    236976\n",
       "NONE           236854\n",
       "BACHELORS      175495\n",
       "DOCTORAL       175364\n",
       "MASTERS        175311\n",
       "Name: degree, dtype: int64"
      ]
     },
     "execution_count": 33,
     "metadata": {},
     "output_type": "execute_result"
    }
   ],
   "source": [
    "df_train_features['degree'].unique()\n",
    "df_train_features['degree'].value_counts()\n"
   ]
  },
  {
   "cell_type": "code",
   "execution_count": 42,
   "metadata": {},
   "outputs": [],
   "source": [
    "condition = ((df_train_features.jobType == 'CEO') & (df_train_features.degree == 'DOCTORAL'))\n",
    "\n",
    "df_test = df_train_features[condition]"
   ]
  },
  {
   "cell_type": "code",
   "execution_count": 43,
   "metadata": {},
   "outputs": [
    {
     "name": "stdout",
     "output_type": "stream",
     "text": [
      "                                    yearsExperience  milesFromMetropolis\n",
      "major   industry  degree   jobType                                      \n",
      "BIOLOGY AUTO      DOCTORAL CEO                  410                  410\n",
      "        EDUCATION DOCTORAL CEO                  400                  400\n",
      "        FINANCE   DOCTORAL CEO                  413                  413\n",
      "        HEALTH    DOCTORAL CEO                  385                  385\n",
      "        OIL       DOCTORAL CEO                  392                  392\n",
      "...                                             ...                  ...\n",
      "PHYSICS FINANCE   DOCTORAL CEO                  419                  419\n",
      "        HEALTH    DOCTORAL CEO                  392                  392\n",
      "        OIL       DOCTORAL CEO                  414                  414\n",
      "        SERVICE   DOCTORAL CEO                  379                  379\n",
      "        WEB       DOCTORAL CEO                  419                  419\n",
      "\n",
      "[63 rows x 2 columns]\n"
     ]
    }
   ],
   "source": [
    "print(df_test.groupby(['major', 'industry','degree','jobType']).count())"
   ]
  },
  {
   "cell_type": "code",
   "execution_count": 17,
   "metadata": {},
   "outputs": [
    {
     "name": "stdout",
     "output_type": "stream",
     "text": [
      "                            jobId  companyId  major  industry  \\\n",
      "jobType        degree                                           \n",
      "CEO            BACHELORS    25123      25123  25123     25123   \n",
      "               DOCTORAL     25145      25145  25145     25145   \n",
      "               HIGH_SCHOOL  24721      24721  24721     24721   \n",
      "               MASTERS      24891      24891  24891     24891   \n",
      "               NONE         24898      24898  24898     24898   \n",
      "CFO            BACHELORS    24983      24983  24983     24983   \n",
      "               DOCTORAL     24697      24697  24697     24697   \n",
      "               HIGH_SCHOOL  24912      24912  24912     24912   \n",
      "               MASTERS      25063      25063  25063     25063   \n",
      "               NONE         24714      24714  24714     24714   \n",
      "CTO            BACHELORS    25057      25057  25057     25057   \n",
      "               DOCTORAL     24920      24920  24920     24920   \n",
      "               HIGH_SCHOOL  24894      24894  24894     24894   \n",
      "               MASTERS      25293      25293  25293     25293   \n",
      "               NONE         24882      24882  24882     24882   \n",
      "JANITOR        HIGH_SCHOOL  62427      62427  62427     62427   \n",
      "               NONE         62544      62544  62544     62544   \n",
      "JUNIOR         BACHELORS    24872      24872  24872     24872   \n",
      "               DOCTORAL     25021      25021  25021     25021   \n",
      "               HIGH_SCHOOL  25080      25080  25080     25080   \n",
      "               MASTERS      24839      24839  24839     24839   \n",
      "               NONE         24782      24782  24782     24782   \n",
      "MANAGER        BACHELORS    25018      25018  25018     25018   \n",
      "               DOCTORAL     24968      24968  24968     24968   \n",
      "               HIGH_SCHOOL  24895      24895  24895     24895   \n",
      "               MASTERS      25148      25148  25148     25148   \n",
      "               NONE         25092      25092  25092     25092   \n",
      "SENIOR         BACHELORS    25318      25318  25318     25318   \n",
      "               DOCTORAL     25379      25379  25379     25379   \n",
      "               HIGH_SCHOOL  24846      24846  24846     24846   \n",
      "               MASTERS      25226      25226  25226     25226   \n",
      "               NONE         25117      25117  25117     25117   \n",
      "VICE_PRESIDENT BACHELORS    25124      25124  25124     25124   \n",
      "               DOCTORAL     25234      25234  25234     25234   \n",
      "               HIGH_SCHOOL  25201      25201  25201     25201   \n",
      "               MASTERS      24851      24851  24851     24851   \n",
      "               NONE         24825      24825  24825     24825   \n",
      "\n",
      "                            yearsExperience  milesFromMetropolis  \n",
      "jobType        degree                                             \n",
      "CEO            BACHELORS              25123                25123  \n",
      "               DOCTORAL               25145                25145  \n",
      "               HIGH_SCHOOL            24721                24721  \n",
      "               MASTERS                24891                24891  \n",
      "               NONE                   24898                24898  \n",
      "CFO            BACHELORS              24983                24983  \n",
      "               DOCTORAL               24697                24697  \n",
      "               HIGH_SCHOOL            24912                24912  \n",
      "               MASTERS                25063                25063  \n",
      "               NONE                   24714                24714  \n",
      "CTO            BACHELORS              25057                25057  \n",
      "               DOCTORAL               24920                24920  \n",
      "               HIGH_SCHOOL            24894                24894  \n",
      "               MASTERS                25293                25293  \n",
      "               NONE                   24882                24882  \n",
      "JANITOR        HIGH_SCHOOL            62427                62427  \n",
      "               NONE                   62544                62544  \n",
      "JUNIOR         BACHELORS              24872                24872  \n",
      "               DOCTORAL               25021                25021  \n",
      "               HIGH_SCHOOL            25080                25080  \n",
      "               MASTERS                24839                24839  \n",
      "               NONE                   24782                24782  \n",
      "MANAGER        BACHELORS              25018                25018  \n",
      "               DOCTORAL               24968                24968  \n",
      "               HIGH_SCHOOL            24895                24895  \n",
      "               MASTERS                25148                25148  \n",
      "               NONE                   25092                25092  \n",
      "SENIOR         BACHELORS              25318                25318  \n",
      "               DOCTORAL               25379                25379  \n",
      "               HIGH_SCHOOL            24846                24846  \n",
      "               MASTERS                25226                25226  \n",
      "               NONE                   25117                25117  \n",
      "VICE_PRESIDENT BACHELORS              25124                25124  \n",
      "               DOCTORAL               25234                25234  \n",
      "               HIGH_SCHOOL            25201                25201  \n",
      "               MASTERS                24851                24851  \n",
      "               NONE                   24825                24825  \n"
     ]
    }
   ],
   "source": [
    "df_grouped = df_train_features.groupby(['jobType', 'degree']).count()\n",
    "\n",
    "##see how balanced the degrees are\n",
    "\n",
    "#Is NONE valid for degree?\n",
    "#df_train_features['degree'].value_counts()\n",
    "print(df_grouped)"
   ]
  },
  {
   "cell_type": "code",
   "execution_count": null,
   "metadata": {},
   "outputs": [],
   "source": [
    "df_train_features['major'].unique()"
   ]
  },
  {
   "cell_type": "code",
   "execution_count": 23,
   "metadata": {},
   "outputs": [
    {
     "data": {
      "text/plain": [
       "NONE           532355\n",
       "CHEMISTRY       58875\n",
       "LITERATURE      58684\n",
       "ENGINEERING     58596\n",
       "BUSINESS        58518\n",
       "PHYSICS         58410\n",
       "COMPSCI         58382\n",
       "BIOLOGY         58379\n",
       "MATH            57801\n",
       "Name: major, dtype: int64"
      ]
     },
     "execution_count": 23,
     "metadata": {},
     "output_type": "execute_result"
    }
   ],
   "source": [
    "df_train_features['major'].value_counts()\n",
    "\n",
    "##Sum of HS and NONE = "
   ]
  },
  {
   "cell_type": "code",
   "execution_count": 16,
   "metadata": {},
   "outputs": [
    {
     "data": {
      "text/plain": [
       "array(['HEALTH', 'WEB', 'AUTO', 'FINANCE', 'EDUCATION', 'OIL', 'SERVICE'],\n",
       "      dtype=object)"
      ]
     },
     "execution_count": 16,
     "metadata": {},
     "output_type": "execute_result"
    }
   ],
   "source": [
    "df_train_features['industry'].unique()"
   ]
  },
  {
   "cell_type": "code",
   "execution_count": 24,
   "metadata": {},
   "outputs": [
    {
     "data": {
      "text/plain": [
       "WEB          143206\n",
       "AUTO         142943\n",
       "FINANCE      142867\n",
       "EDUCATION    142819\n",
       "OIL          142771\n",
       "HEALTH       142755\n",
       "SERVICE      142639\n",
       "Name: industry, dtype: int64"
      ]
     },
     "execution_count": 24,
     "metadata": {},
     "output_type": "execute_result"
    }
   ],
   "source": [
    "df_train_features['industry'].value_counts()"
   ]
  },
  {
   "cell_type": "code",
   "execution_count": null,
   "metadata": {},
   "outputs": [],
   "source": []
  }
 ],
 "metadata": {
  "kernelspec": {
   "display_name": "Python 3",
   "language": "python",
   "name": "python3"
  },
  "language_info": {
   "codemirror_mode": {
    "name": "ipython",
    "version": 3
   },
   "file_extension": ".py",
   "mimetype": "text/x-python",
   "name": "python",
   "nbconvert_exporter": "python",
   "pygments_lexer": "ipython3",
   "version": "3.7.4"
  }
 },
 "nbformat": 4,
 "nbformat_minor": 2
}
